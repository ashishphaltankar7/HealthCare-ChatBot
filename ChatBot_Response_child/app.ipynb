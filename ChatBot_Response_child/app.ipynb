{
 "cells": [
  {
   "cell_type": "code",
   "execution_count": 11,
   "metadata": {},
   "outputs": [],
   "source": [
    "from flask import Flask,render_template,request,jsonify\n",
    "from flask_cors import CORS\n",
    "from ChatBot_Response import chatbot_response"
   ]
  },
  {
   "cell_type": "code",
   "execution_count": 17,
   "metadata": {},
   "outputs": [],
   "source": [
    "app = Flask(__name__,template_folder='template/')\n",
    "@app.route(\"/\",methods=['GET'])\n",
    "def index_get():\n",
    "    return render_template(\"index.html\")\n",
    "@app.route(\"/predict\",methods=['POST'])\n",
    "def predict():\n",
    "    text=request.get_json(\"message\")\n",
    "    res= chatbot_response(text)\n",
    "    message={\"answer\":res}\n",
    "    \n",
    "    return jsonify( message)"
   ]
  },
  {
   "cell_type": "code",
   "execution_count": 6,
   "metadata": {},
   "outputs": [
    {
     "ename": "NameError",
     "evalue": "name 'text' is not defined",
     "output_type": "error",
     "traceback": [
      "\u001b[1;31m---------------------------------------------------------------------------\u001b[0m",
      "\u001b[1;31mNameError\u001b[0m                                 Traceback (most recent call last)",
      "Input \u001b[1;32mIn [6]\u001b[0m, in \u001b[0;36m<cell line: 1>\u001b[1;34m()\u001b[0m\n\u001b[1;32m----> 1\u001b[0m \u001b[38;5;28mprint\u001b[39m(\u001b[43mtext\u001b[49m)\n",
      "\u001b[1;31mNameError\u001b[0m: name 'text' is not defined"
     ]
    }
   ],
   "source": []
  },
  {
   "cell_type": "code",
   "execution_count": null,
   "metadata": {},
   "outputs": [
    {
     "name": "stdout",
     "output_type": "stream",
     "text": [
      " * Serving Flask app \"__main__\" (lazy loading)\n",
      " * Environment: production\n",
      "\u001b[31m   WARNING: This is a development server. Do not use it in a production deployment.\u001b[0m\n",
      "\u001b[2m   Use a production WSGI server instead.\u001b[0m\n",
      " * Debug mode: off\n"
     ]
    },
    {
     "name": "stderr",
     "output_type": "stream",
     "text": [
      " * Running on http://127.0.0.1:5000/ (Press CTRL+C to quit)\n",
      "127.0.0.1 - - [04/Nov/2022 19:12:50] \"GET / HTTP/1.1\" 200 -\n",
      "[2022-11-04 19:12:55,510] ERROR in app: Exception on /predict [POST]\n",
      "Traceback (most recent call last):\n",
      "  File \"C:\\ProgramData\\Anaconda3\\lib\\site-packages\\flask\\app.py\", line 2447, in wsgi_app\n",
      "    response = self.full_dispatch_request()\n",
      "  File \"C:\\ProgramData\\Anaconda3\\lib\\site-packages\\flask\\app.py\", line 1952, in full_dispatch_request\n",
      "    rv = self.handle_user_exception(e)\n",
      "  File \"C:\\ProgramData\\Anaconda3\\lib\\site-packages\\flask\\app.py\", line 1821, in handle_user_exception\n",
      "    reraise(exc_type, exc_value, tb)\n",
      "  File \"C:\\ProgramData\\Anaconda3\\lib\\site-packages\\flask\\_compat.py\", line 39, in reraise\n",
      "    raise value\n",
      "  File \"C:\\ProgramData\\Anaconda3\\lib\\site-packages\\flask\\app.py\", line 1950, in full_dispatch_request\n",
      "    rv = self.dispatch_request()\n",
      "  File \"C:\\ProgramData\\Anaconda3\\lib\\site-packages\\flask\\app.py\", line 1936, in dispatch_request\n",
      "    return self.view_functions[rule.endpoint](**req.view_args)\n",
      "  File \"C:\\Users\\Admin\\AppData\\Local\\Temp\\ipykernel_12176\\3284182571.py\", line 8, in predict\n",
      "    res= chatbot_response(text)\n",
      "  File \"F:\\ChatBot\\ChatBot_Response.py\", line 73, in chatbot_response\n",
      "    ints = predict_class(text, model)\n",
      "  File \"F:\\ChatBot\\ChatBot_Response.py\", line 49, in predict_class\n",
      "    p = bow(sentence, words,show_details=False)\n",
      "  File \"F:\\ChatBot\\ChatBot_Response.py\", line 35, in bow\n",
      "    sentence_words = clean_up_sentence(sentence)\n",
      "  File \"F:\\ChatBot\\ChatBot_Response.py\", line 27, in clean_up_sentence\n",
      "    sentence_words = nltk.word_tokenize(sentence)\n",
      "  File \"C:\\ProgramData\\Anaconda3\\lib\\site-packages\\nltk\\tokenize\\__init__.py\", line 129, in word_tokenize\n",
      "    sentences = [text] if preserve_line else sent_tokenize(text, language)\n",
      "  File \"C:\\ProgramData\\Anaconda3\\lib\\site-packages\\nltk\\tokenize\\__init__.py\", line 107, in sent_tokenize\n",
      "    return tokenizer.tokenize(text)\n",
      "  File \"C:\\ProgramData\\Anaconda3\\lib\\site-packages\\nltk\\tokenize\\punkt.py\", line 1276, in tokenize\n",
      "    return list(self.sentences_from_text(text, realign_boundaries))\n",
      "  File \"C:\\ProgramData\\Anaconda3\\lib\\site-packages\\nltk\\tokenize\\punkt.py\", line 1332, in sentences_from_text\n",
      "    return [text[s:e] for s, e in self.span_tokenize(text, realign_boundaries)]\n",
      "  File \"C:\\ProgramData\\Anaconda3\\lib\\site-packages\\nltk\\tokenize\\punkt.py\", line 1332, in <listcomp>\n",
      "    return [text[s:e] for s, e in self.span_tokenize(text, realign_boundaries)]\n",
      "  File \"C:\\ProgramData\\Anaconda3\\lib\\site-packages\\nltk\\tokenize\\punkt.py\", line 1322, in span_tokenize\n",
      "    for sentence in slices:\n",
      "  File \"C:\\ProgramData\\Anaconda3\\lib\\site-packages\\nltk\\tokenize\\punkt.py\", line 1421, in _realign_boundaries\n",
      "    for sentence1, sentence2 in _pair_iter(slices):\n",
      "  File \"C:\\ProgramData\\Anaconda3\\lib\\site-packages\\nltk\\tokenize\\punkt.py\", line 318, in _pair_iter\n",
      "    prev = next(iterator)\n",
      "  File \"C:\\ProgramData\\Anaconda3\\lib\\site-packages\\nltk\\tokenize\\punkt.py\", line 1395, in _slices_from_text\n",
      "    for match, context in self._match_potential_end_contexts(text):\n",
      "  File \"C:\\ProgramData\\Anaconda3\\lib\\site-packages\\nltk\\tokenize\\punkt.py\", line 1375, in _match_potential_end_contexts\n",
      "    for match in reversed(list(self._lang_vars.period_context_re().finditer(text))):\n",
      "TypeError: expected string or bytes-like object\n",
      "127.0.0.1 - - [04/Nov/2022 19:12:55] \"POST /predict HTTP/1.1\" 500 -\n"
     ]
    }
   ],
   "source": [
    "if __name__=='__main__':\n",
    "    app.run(debug=False)"
   ]
  },
  {
   "cell_type": "code",
   "execution_count": 10,
   "metadata": {},
   "outputs": [
    {
     "name": "stdout",
     "output_type": "stream",
     "text": [
      "Note: you may need to restart the kernel to use updated packages.Defaulting to user installation because normal site-packages is not writeable\n",
      "\n"
     ]
    },
    {
     "name": "stderr",
     "output_type": "stream",
     "text": [
      "ERROR: Invalid requirement: 'Flask,'\n"
     ]
    }
   ],
   "source": [
    "\n"
   ]
  },
  {
   "cell_type": "code",
   "execution_count": 12,
   "metadata": {},
   "outputs": [
    {
     "name": "stdout",
     "output_type": "stream",
     "text": [
      "1/1 [==============================] - 0s 48ms/step\n"
     ]
    },
    {
     "data": {
      "text/plain": [
       "'what can I do for you ?'"
      ]
     },
     "execution_count": 12,
     "metadata": {},
     "output_type": "execute_result"
    }
   ],
   "source": [
    " "
   ]
  },
  {
   "cell_type": "code",
   "execution_count": null,
   "metadata": {},
   "outputs": [],
   "source": []
  }
 ],
 "metadata": {
  "kernelspec": {
   "display_name": "Python 3",
   "language": "python",
   "name": "python3"
  },
  "language_info": {
   "codemirror_mode": {
    "name": "ipython",
    "version": 3
   },
   "file_extension": ".py",
   "mimetype": "text/x-python",
   "name": "python",
   "nbconvert_exporter": "python",
   "pygments_lexer": "ipython3",
   "version": "3.7.6"
  }
 },
 "nbformat": 4,
 "nbformat_minor": 5
}
